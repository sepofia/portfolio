{
 "cells": [
  {
   "cell_type": "markdown",
   "id": "UkLwQDSmOAGA",
   "metadata": {
    "id": "UkLwQDSmOAGA"
   },
   "source": []
  },
  {
   "cell_type": "markdown",
   "id": "b10c9b67",
   "metadata": {
    "id": "b10c9b67",
    "tags": []
   },
   "source": [
    "# Algorithms and data structures. Practical work\n",
    "\n",
    "**All tasks:**\n",
    "- the average value of the estimates in the list;\n",
    "- one of the modifications of linear search;\n",
    "- index of the minimum item in the list;\n",
    "- counting even items in the list;\n",
    "- the complexity of binary search;\n",
    "- sorting of the top 2 items.\n",
    "- frequency of numbers;\n",
    "- search for the singular;\n",
    "- sorting and merging files;\n",
    "- moving average.\n",
    "\n",
    "**What is being evaluated**\n",
    "- The program gives the correct answer on different sets of input data.\n",
    "- The code is readable:\n",
    "- variables are given meaningful names,\n",
    " - indentation and space placement rules are observed.\n",
    "\n",
    "---\n",
    "---\n",
    "---"
   ]
  },
  {
   "cell_type": "markdown",
   "id": "9c9a2d1d-1f6c-419a-8777-7590db5dc696",
   "metadata": {
    "id": "9c9a2d1d-1f6c-419a-8777-7590db5dc696"
   },
   "source": [
    "#"
   ]
  },
  {
   "cell_type": "markdown",
   "id": "dde5309e-5b85-410e-8350-944ae644eacd",
   "metadata": {
    "id": "dde5309e-5b85-410e-8350-944ae644eacd"
   },
   "source": [
    "***Task 1. The average value of the estimates in the list***\n",
    "\n",
    "The `user_scores' list displays usage data from customers. Calculate the minimum, maximum and average ratings from users for the day.\n",
    "\n",
    "Make sure that your program correctly counts the minimum, maximum and average on different lists.\n",
    "\n",
    "*Example:*\n",
    "\n",
    "Input:\n",
    "```python\n",
    "user_scores = [3, 3, 5, 5, 1, 1]\n",
    "```\n",
    "Output:\n",
    "```bash\n",
    "min = 1 max = 5 avg = 3.0\n",
    "```"
   ]
  },
  {
   "cell_type": "code",
   "execution_count": 1,
   "id": "f9e9bf52-359e-4e4b-a954-b57f6eceb242",
   "metadata": {
    "id": "f9e9bf52-359e-4e4b-a954-b57f6eceb242"
   },
   "outputs": [],
   "source": [
    "user_scores = [3, 3, 5, 5, 1, 1]"
   ]
  },
  {
   "cell_type": "code",
   "execution_count": 2,
   "id": "db6b5ba0-5e18-4fd9-80f8-e07804146d93",
   "metadata": {
    "id": "db6b5ba0-5e18-4fd9-80f8-e07804146d93"
   },
   "outputs": [
    {
     "name": "stdout",
     "output_type": "stream",
     "text": [
      "Minimum score = 1, maximum score = 5, average score = 3.0\n"
     ]
    }
   ],
   "source": [
    "min_score, max_score, avg_score = min(user_scores), max(user_scores), sum(user_scores) / len(user_scores)\n",
    "print(f'Minimum score = {min_score}, maximum score = {max_score}, average score = {avg_score}')"
   ]
  },
  {
   "cell_type": "markdown",
   "id": "f14aed1d-b977-470a-8565-2f57195d8dfa",
   "metadata": {
    "id": "f14aed1d-b977-470a-8565-2f57195d8dfa"
   },
   "source": [
    "#"
   ]
  },
  {
   "cell_type": "markdown",
   "id": "0b9cc15a-d9e3-493c-8c06-474c54d09707",
   "metadata": {
    "id": "0b9cc15a-d9e3-493c-8c06-474c54d09707"
   },
   "source": [
    "***Task 2. One of the modifications of linear search***\n",
    "\n",
    "A list of operations on the card of one of the clients is given. Transactions can be positive (deposits to the card) and negative (customer expenses). Find all the deposits to the card and output their amount. If there were no deposits, output 0.\n",
    "\n",
    "Check the functionality of the program on different lists.\n",
    "\n",
    "*Example:*\n",
    "\n",
    "Input:\n",
    "```python\n",
    "transactions = [-100, -200, -100, 1000, 50, -90]\n",
    "```\n",
    "Output:\n",
    "```bash\n",
    "1050\n",
    "```"
   ]
  },
  {
   "cell_type": "code",
   "execution_count": 3,
   "id": "a7936f12-aadc-47f8-b068-80df53974f6a",
   "metadata": {
    "id": "a7936f12-aadc-47f8-b068-80df53974f6a"
   },
   "outputs": [],
   "source": [
    "transactions = [-100, -200, -100, 1000, 50, -90]\n",
    "transactions_1 = [-100, -200, -300]\n",
    "transactions_2 = [777]"
   ]
  },
  {
   "cell_type": "code",
   "execution_count": 4,
   "id": "f1bb457e-1fca-49ae-912f-3ad8fdb0104c",
   "metadata": {
    "id": "f1bb457e-1fca-49ae-912f-3ad8fdb0104c"
   },
   "outputs": [
    {
     "name": "stdout",
     "output_type": "stream",
     "text": [
      "1050\n",
      "0\n",
      "777\n"
     ]
    }
   ],
   "source": [
    "def calc_account(array: list[float]) -> float:\n",
    "    res = 0\n",
    "    for array_i in array:\n",
    "        if array_i > 0:\n",
    "            res += array_i\n",
    "    return res\n",
    "\n",
    "print(calc_account(transactions))\n",
    "print(calc_account(transactions_1))\n",
    "print(calc_account(transactions_2))"
   ]
  },
  {
   "cell_type": "markdown",
   "id": "1002b77a-cb07-432e-9dce-de7a9fc88b66",
   "metadata": {
    "id": "1002b77a-cb07-432e-9dce-de7a9fc88b66"
   },
   "source": [
    "#"
   ]
  },
  {
   "cell_type": "markdown",
   "id": "20f099c7-248d-44d0-b4ec-e081e0ed12d0",
   "metadata": {
    "id": "20f099c7-248d-44d0-b4ec-e081e0ed12d0"
   },
   "source": [
    "***Task 3. Index of the minimum element in the list***\n",
    "\n",
    "A list of `week_data` of seven elements is given, which stores the number of requests processed by the call center on each day of the week. Print the first sequential number of the day on which the fewest requests were processed.\n",
    "\n",
    "Check the functionality of the program on different lists.\n",
    "\n",
    "*Example:*\n",
    "\n",
    "Input:\n",
    "```python\n",
    "week_data = [1, 20, 12, 35, 0, 7, 8]\n",
    "```\n",
    "Output:\n",
    "```bash\n",
    "5\n",
    "```"
   ]
  },
  {
   "cell_type": "code",
   "execution_count": 5,
   "id": "8bf001e9-855c-4dc5-a108-56aa14b51ebe",
   "metadata": {
    "id": "8bf001e9-855c-4dc5-a108-56aa14b51ebe"
   },
   "outputs": [],
   "source": [
    "week_data = [1, 20, 12, 35, 0, 7, 8]"
   ]
  },
  {
   "cell_type": "code",
   "execution_count": 6,
   "id": "450522fe-0188-4ee4-b828-1dee93421867",
   "metadata": {
    "id": "450522fe-0188-4ee4-b828-1dee93421867"
   },
   "outputs": [
    {
     "data": {
      "text/plain": [
       "5"
      ]
     },
     "execution_count": 6,
     "metadata": {},
     "output_type": "execute_result"
    }
   ],
   "source": [
    "def min_queries_day(week_data: list[int]) -> int:\n",
    "    if len(week_data) != 7:\n",
    "        return None\n",
    "\n",
    "    min_day = 1\n",
    "    for i in range(1, 7):\n",
    "        if week_data[i] < week_data[min_day - 1]:\n",
    "            min_day = i + 1\n",
    "    return min_day\n",
    "\n",
    "min_queries_day(week_data)"
   ]
  },
  {
   "cell_type": "markdown",
   "id": "805e56a3-b89e-40a4-8352-4e101c7ffc99",
   "metadata": {
    "id": "805e56a3-b89e-40a4-8352-4e101c7ffc99"
   },
   "source": [
    "#"
   ]
  },
  {
   "cell_type": "markdown",
   "id": "3ffcceb1-8f10-4e8a-bc6d-c69288d11058",
   "metadata": {
    "id": "3ffcceb1-8f10-4e8a-bc6d-c69288d11058"
   },
   "source": [
    "***Task 4. Counting even items in the list***\n",
    "\n",
    "The same `week_data` list of seven elements is given, which contains the number of requests processed by the call center. Print the ordinal numbers of the days in which the number of requests was even.\n",
    "\n",
    "Check the functionality of the program on different lists.\n",
    "\n",
    "*Example:*\n",
    "\n",
    "Input:\n",
    "```python\n",
    "week_data = [1, 20, 12, 35, 0, 7, 8]\n",
    "```\n",
    "Output:\n",
    "```bash\n",
    "[2, 3, 5, 7]\n",
    "```"
   ]
  },
  {
   "cell_type": "code",
   "execution_count": 7,
   "id": "e045e905-df8c-42ec-8fdf-965cde35419a",
   "metadata": {
    "id": "e045e905-df8c-42ec-8fdf-965cde35419a"
   },
   "outputs": [],
   "source": [
    "week_data = [1, 20, 12, 35, 0, 7, 8]"
   ]
  },
  {
   "cell_type": "code",
   "execution_count": 8,
   "id": "9296f499-7e49-4ded-af5e-ceb748152023",
   "metadata": {
    "id": "9296f499-7e49-4ded-af5e-ceb748152023"
   },
   "outputs": [
    {
     "data": {
      "text/plain": [
       "[2, 3, 5, 7]"
      ]
     },
     "execution_count": 8,
     "metadata": {},
     "output_type": "execute_result"
    }
   ],
   "source": [
    "def odd_days(week_data: list[int]) -> list[int]:\n",
    "    if len(week_data) != 7:\n",
    "        return None\n",
    "    ans = [i + 1 for i in range(7) if week_data[i] % 2 == 0]\n",
    "    return ans\n",
    "\n",
    "odd_days(week_data)"
   ]
  },
  {
   "cell_type": "markdown",
   "id": "fa050589-c76b-4286-bf7c-c608e044bc10",
   "metadata": {
    "id": "fa050589-c76b-4286-bf7c-c608e044bc10"
   },
   "source": [
    "#"
   ]
  },
  {
   "cell_type": "markdown",
   "id": "000ea36c-492b-4c32-9cea-727059b07d77",
   "metadata": {
    "id": "000ea36c-492b-4c32-9cea-727059b07d77"
   },
   "source": [
    "***Task 5. The complexity of binary search***\n",
    "\n",
    "Implement a binary search algorithm that searches for the value of `key` in a sorted list of `numbers_list'. Display the following information:\n",
    "- `True` — if the element is found, `False` — if not found.\n",
    "- The number of comparisons with the middle element that were made to complete the binary search.\n",
    "\n",
    "Check the functionality of the program on different lists.\n",
    "\n",
    "*Example 1:*\n",
    "\n",
    "Input:\n",
    "```python\n",
    "numbers_list = [100, 200, 700, 1000, 1200]\n",
    "key = 1000\n",
    "```\n",
    "Output:\n",
    "```bash\n",
    "True, 2\n",
    "```\n",
    "\n",
    "*Example 2:*\n",
    "\n",
    "Input:\n",
    "```python\n",
    "numbers_list = [0, 20, 30, 34, 45, 56, 67, 78, 90, 100, 110]\n",
    "key = 89\n",
    "```\n",
    "Output:\n",
    "```bash\n",
    "False, 4\n",
    "```"
   ]
  },
  {
   "cell_type": "code",
   "execution_count": 9,
   "id": "fa0e4866",
   "metadata": {},
   "outputs": [],
   "source": [
    "def bin_search(array: list[float], key: float) -> tuple[bool, int]:\n",
    "    # Проверка на отсортированность массива\n",
    "    # Закомментирована, так как она ухудшает асимптотику :)\n",
    "    # if sorted(array) != array:\n",
    "    #     return None\n",
    "\n",
    "    count = 0\n",
    "    n = len(array)\n",
    "\n",
    "    if n == 0:\n",
    "        return (False, count)\n",
    "\n",
    "    l, r = 0, n\n",
    "    while r - l > 1:\n",
    "        mid = (r + l) // 2\n",
    "        count += 1\n",
    "        if array[mid] == key:\n",
    "            return (True, count)\n",
    "        if array[mid] < key:\n",
    "            l, r = mid, r\n",
    "        else:\n",
    "            l, r = l, mid\n",
    "\n",
    "    # count += 1\n",
    "    # это сравнение НЕ с серединным элементом, так что оно не учитывается в общем счётчике.\n",
    "    # Но для корректности его стоило бы учесть, я считаю :)\n",
    "\n",
    "    if array[l] == key:\n",
    "        return (True, count)\n",
    "    return (False, count)"
   ]
  },
  {
   "cell_type": "code",
   "execution_count": 10,
   "id": "f4ac6f7e-1f91-4edf-af6b-084f72225af7",
   "metadata": {
    "id": "f4ac6f7e-1f91-4edf-af6b-084f72225af7"
   },
   "outputs": [
    {
     "data": {
      "text/plain": [
       "(True, 2)"
      ]
     },
     "execution_count": 10,
     "metadata": {},
     "output_type": "execute_result"
    }
   ],
   "source": [
    "# Первый пример для отладки\n",
    "numbers_list = [100, 200, 700, 1000, 1200]\n",
    "key = 1000\n",
    "\n",
    "bin_search(numbers_list, key)"
   ]
  },
  {
   "cell_type": "code",
   "execution_count": 11,
   "id": "74922d86-2122-4e3c-9f6c-998cd051c3b1",
   "metadata": {
    "id": "74922d86-2122-4e3c-9f6c-998cd051c3b1"
   },
   "outputs": [
    {
     "data": {
      "text/plain": [
       "(False, 4)"
      ]
     },
     "execution_count": 11,
     "metadata": {},
     "output_type": "execute_result"
    }
   ],
   "source": [
    "# Второй пример для отладки\n",
    "numbers_list = [0, 20, 30, 34, 45, 56, 67, 78, 90, 100, 110]\n",
    "key = 89\n",
    "\n",
    "bin_search(numbers_list, key)"
   ]
  },
  {
   "cell_type": "code",
   "execution_count": 12,
   "id": "3bb9b1ab",
   "metadata": {},
   "outputs": [
    {
     "name": "stdout",
     "output_type": "stream",
     "text": [
      "for array = [1, 3, 5, 7, 9, 11] and key = 1\n",
      "(True, 2)\n",
      "for array = [1, 3, 5, 7, 9, 11] and key = 3\n",
      "(True, 2)\n",
      "for array = [1, 3, 5, 7, 9, 11] and key = 5\n",
      "(True, 3)\n",
      "for array = [1, 3, 5, 7, 9, 11] and key = 7\n",
      "(True, 1)\n",
      "for array = [1, 3, 5, 7, 9, 11] and key = 9\n",
      "(True, 2)\n",
      "for array = [1, 3, 5, 7, 9, 11] and key = 11\n",
      "(True, 3)\n",
      "for array = [1, 3, 5, 7, 9, 11] and key = 0\n",
      "(False, 2)\n",
      "for array = [1, 3, 5, 7, 9, 11] and key = 8\n",
      "(False, 2)\n",
      "for array = [1, 3, 5, 7, 9, 11] and key = 12\n",
      "(False, 3)\n",
      "\n",
      "for array = [2, 4, 6, 8, 10] and key = 2\n",
      "(True, 2)\n",
      "for array = [2, 4, 6, 8, 10] and key = 4\n",
      "(True, 2)\n",
      "for array = [2, 4, 6, 8, 10] and key = 6\n",
      "(True, 1)\n",
      "for array = [2, 4, 6, 8, 10] and key = 8\n",
      "(True, 2)\n",
      "for array = [2, 4, 6, 8, 10] and key = 10\n",
      "(True, 3)\n",
      "for array = [2, 4, 6, 8, 10] and key = 1\n",
      "(False, 2)\n",
      "for array = [2, 4, 6, 8, 10] and key = 7\n",
      "(False, 2)\n",
      "for array = [2, 4, 6, 8, 10] and key = 11\n",
      "(False, 3)\n",
      "\n",
      "for array = [14, 17] and key = 14\n",
      "(True, 1)\n",
      "for array = [14, 17] and key = 17\n",
      "(True, 1)\n",
      "for array = [14, 17] and key = 13\n",
      "(False, 1)\n",
      "for array = [14, 17] and key = 18\n",
      "(False, 1)\n",
      "for array = [14, 17] and key = 18\n",
      "(False, 1)\n",
      "\n",
      "for array = [15] and key = 15\n",
      "(True, 0)\n",
      "for array = [15] and key = 14\n",
      "(False, 0)\n",
      "for array = [15] and key = 16\n",
      "(False, 0)\n",
      "for array = [15] and key = 16\n",
      "(False, 0)\n",
      "\n",
      "for array = [] and key = 0\n",
      "(False, 0)\n"
     ]
    }
   ],
   "source": [
    "# Мои примеры\n",
    "arr_1 = [1, 3, 5, 7, 9, 11]\n",
    "arr_2 = [2, 4, 6, 8, 10]\n",
    "arr_3 = [14, 17]\n",
    "arr_4 = [15]\n",
    "arr_5 = []\n",
    "\n",
    "for arr in [arr_1, arr_2, arr_3, arr_4]:\n",
    "    key_arr = arr + [arr[0] - 1, arr[len(arr) // 2] + 1, arr[-1] + 1]\n",
    "    for key_i in key_arr:\n",
    "        print(f'for array = {arr} and key = {key_i}')\n",
    "        print(bin_search(arr, key_i))\n",
    "    print()\n",
    "\n",
    "zero_key = 0\n",
    "print(f'for array = {arr_5} and key = {zero_key}')\n",
    "print(bin_search(arr_5, zero_key))"
   ]
  },
  {
   "cell_type": "markdown",
   "id": "20d5c351-3806-4558-bdd0-3c03d9afa7c6",
   "metadata": {
    "id": "20d5c351-3806-4558-bdd0-3c03d9afa7c6"
   },
   "source": [
    "#"
   ]
  },
  {
   "cell_type": "markdown",
   "id": "f72094b2-f8b0-41a1-a6ca-0e96829d7b7c",
   "metadata": {
    "id": "f72094b2-f8b0-41a1-a6ca-0e96829d7b7c"
   },
   "source": [
    "***Task 6. Sorting the top 2 items***\n",
    "\n",
    "There is a list with customer transactions.\n",
    "\n",
    "You need to sort this list so that the two maximum transactions sorted in ascending order end up at the end of the list.\n",
    "\n",
    "The order of the other elements does not matter. To solve this problem, refine the bubble sorting algorithm.\n",
    "\n",
    "Check the functionality of the program on different lists.\n",
    "\n",
    "*Example 1:*\n",
    "\n",
    "Input:\n",
    "```python\n",
    "transactions = [100, 200, 90, 70, 120]\n",
    "```\n",
    "Output:\n",
    "```bash\n",
    "[90, 70, 100, 120, 200]\n",
    "```\n",
    "\n",
    "*Example 2:*\n",
    "\n",
    "Input:\n",
    "```python\n",
    "transactions = [100, 98, 1000, 2500, 299, 1898, 1989, 2001, 50, 10, 70]\n",
    "```\n",
    "Output:\n",
    "```bash\n",
    "[98, 100, 299, 1000, 1898, 1989, 50, 10, 70, 2001, 2500]\n",
    "```"
   ]
  },
  {
   "cell_type": "code",
   "execution_count": 13,
   "id": "4c92d342",
   "metadata": {},
   "outputs": [],
   "source": [
    "def two_max_bubble(array: list[float]) -> list[float]:\n",
    "    n = len(array)\n",
    "    if n < 2:\n",
    "        return array\n",
    "\n",
    "    for i in range(2):\n",
    "        for j in range(1, n - i):\n",
    "            if array[j - 1] > array[j]:\n",
    "                array[j - 1], array[j] = array[j], array[j - 1]\n",
    "    return array"
   ]
  },
  {
   "cell_type": "code",
   "execution_count": 14,
   "id": "eed0ff89-ef19-4017-b185-965eab21ba46",
   "metadata": {
    "id": "eed0ff89-ef19-4017-b185-965eab21ba46"
   },
   "outputs": [
    {
     "data": {
      "text/plain": [
       "[90, 70, 100, 120, 200]"
      ]
     },
     "execution_count": 14,
     "metadata": {},
     "output_type": "execute_result"
    }
   ],
   "source": [
    "# Первый пример для отладки\n",
    "transactions = [100, 200, 90, 70, 120]\n",
    "\n",
    "two_max_bubble(transactions)"
   ]
  },
  {
   "cell_type": "code",
   "execution_count": 15,
   "id": "5d1687d6-800b-4a1e-b460-1d50139bd253",
   "metadata": {
    "id": "5d1687d6-800b-4a1e-b460-1d50139bd253"
   },
   "outputs": [
    {
     "data": {
      "text/plain": [
       "[98, 100, 299, 1000, 1898, 1989, 50, 10, 70, 2001, 2500]"
      ]
     },
     "execution_count": 15,
     "metadata": {},
     "output_type": "execute_result"
    }
   ],
   "source": [
    "# Второй пример для отладки\n",
    "transactions = [100, 98, 1000, 2500, 299, 1898, 1989, 2001, 50, 10, 70]\n",
    "\n",
    "two_max_bubble(transactions)"
   ]
  },
  {
   "cell_type": "code",
   "execution_count": 16,
   "id": "c8869bae",
   "metadata": {},
   "outputs": [
    {
     "name": "stdout",
     "output_type": "stream",
     "text": [
      "[24, 25]\n",
      "[777]\n",
      "[111, 222, 333, 444]\n",
      "[555, 666, 333, 444, 888, 999]\n"
     ]
    }
   ],
   "source": [
    "arr_1 = [25, 24]\n",
    "arr_2 = [777]\n",
    "arr_3 = [111, 222, 333, 444]\n",
    "arr_4 = [999, 888, 555, 666, 333, 444]\n",
    "\n",
    "for arr in [arr_1, arr_2, arr_3, arr_4]:\n",
    "    print(two_max_bubble(arr))"
   ]
  },
  {
   "cell_type": "markdown",
   "id": "1b5df2e5-b409-4f57-9457-7824faf7d3f7",
   "metadata": {
    "id": "1b5df2e5-b409-4f57-9457-7824faf7d3f7"
   },
   "source": [
    "#"
   ]
  },
  {
   "cell_type": "markdown",
   "id": "6d93dc9e",
   "metadata": {
    "id": "6d93dc9e",
    "tags": []
   },
   "source": [
    "***Task 7. Number frequencies***\n",
    "\n",
    "The list1 is given, which contains non-negative integers from `0` to `9`. Each item in the list is a number from `0` to `9'. The numbers can be repeated, each number can occur `0` or more times.\n",
    "\n",
    "#### **What needs to be done**\n",
    "Find the frequency of each number: how many times each number occurs in the `numbers_list' list.\n",
    "\n",
    "To do this, create and program an algorithm that will count the frequencies of all numbers and display the result in the format `number: frequency` for each number from `0` to `9'.\n",
    "\n",
    "For example, for a given list, the result should be:\n",
    "\n",
    "```bash\n",
    "0: 2\n",
    "1: 5\n",
    "2: 1\n",
    "3: 2\n",
    "4: 1\n",
    "5: 3\n",
    "6: 1\n",
    "7: 3\n",
    "8: 0\n",
    "9: 1\n",
    "```\n",
    "\n",
    "Make sure that the algorithm works correctly for different inputs: create several lists and test the algorithm on them."
   ]
  },
  {
   "cell_type": "code",
   "execution_count": 17,
   "id": "e3a7a3eb",
   "metadata": {
    "id": "e3a7a3eb"
   },
   "outputs": [],
   "source": [
    "numbers_list = [1, 3, 7, 1, 1, 2, 3, 7, 6, 5, 5, 4, 1, 5, 9, 1, 7, 0, 0]"
   ]
  },
  {
   "cell_type": "code",
   "execution_count": 18,
   "id": "4696615f-5f6f-4ca8-a8fd-63db33903b6d",
   "metadata": {
    "id": "4696615f-5f6f-4ca8-a8fd-63db33903b6d"
   },
   "outputs": [],
   "source": [
    "def calc_frequency(array: list[int]) -> None:\n",
    "    freq = [0 for _ in range(10)]\n",
    "    for elem in array:\n",
    "        # проверка корректности элемента\n",
    "        if not (0 <= elem <= 9):\n",
    "            return None\n",
    "\n",
    "        freq[elem] += 1\n",
    "\n",
    "    for i in range(10):\n",
    "        print(f'{i}: {freq[i]}')"
   ]
  },
  {
   "cell_type": "code",
   "execution_count": 19,
   "id": "0601b5a1",
   "metadata": {},
   "outputs": [
    {
     "name": "stdout",
     "output_type": "stream",
     "text": [
      "0: 2\n",
      "1: 5\n",
      "2: 1\n",
      "3: 2\n",
      "4: 1\n",
      "5: 3\n",
      "6: 1\n",
      "7: 3\n",
      "8: 0\n",
      "9: 1\n"
     ]
    }
   ],
   "source": [
    "calc_frequency(numbers_list)"
   ]
  },
  {
   "cell_type": "code",
   "execution_count": 20,
   "id": "8c9042c6",
   "metadata": {},
   "outputs": [
    {
     "name": "stdout",
     "output_type": "stream",
     "text": [
      "\n",
      "for array = [1, 2, 3, 4, 5, 6, 7, 8, 9, 0]:\n",
      "0: 1\n",
      "1: 1\n",
      "2: 1\n",
      "3: 1\n",
      "4: 1\n",
      "5: 1\n",
      "6: 1\n",
      "7: 1\n",
      "8: 1\n",
      "9: 1\n",
      "\n",
      "for array = [1, 2, 3, 1, 5, 2, 6, 9, 3, 1]:\n",
      "0: 0\n",
      "1: 3\n",
      "2: 2\n",
      "3: 2\n",
      "4: 0\n",
      "5: 1\n",
      "6: 1\n",
      "7: 0\n",
      "8: 0\n",
      "9: 1\n",
      "\n",
      "for array = [1, 5, 3, 7, 5, 9]:\n",
      "0: 0\n",
      "1: 1\n",
      "2: 0\n",
      "3: 1\n",
      "4: 0\n",
      "5: 2\n",
      "6: 0\n",
      "7: 1\n",
      "8: 0\n",
      "9: 1\n",
      "\n",
      "for array = [8, 0, 4, 6, 2, 8]:\n",
      "0: 1\n",
      "1: 0\n",
      "2: 1\n",
      "3: 0\n",
      "4: 1\n",
      "5: 0\n",
      "6: 1\n",
      "7: 0\n",
      "8: 2\n",
      "9: 0\n",
      "\n",
      "for array = [5]:\n",
      "0: 0\n",
      "1: 0\n",
      "2: 0\n",
      "3: 0\n",
      "4: 0\n",
      "5: 1\n",
      "6: 0\n",
      "7: 0\n",
      "8: 0\n",
      "9: 0\n",
      "\n",
      "for array = []:\n",
      "0: 0\n",
      "1: 0\n",
      "2: 0\n",
      "3: 0\n",
      "4: 0\n",
      "5: 0\n",
      "6: 0\n",
      "7: 0\n",
      "8: 0\n",
      "9: 0\n"
     ]
    }
   ],
   "source": [
    "arr_1 = [1, 2, 3, 4, 5, 6, 7, 8, 9, 0]\n",
    "arr_2 = [1, 2, 3, 1, 5 , 2, 6, 9, 3, 1]\n",
    "arr_3 = [1, 5, 3, 7, 5, 9]\n",
    "arr_4 = [8, 0, 4, 6, 2, 8]\n",
    "arr_5 = [5]\n",
    "arr_6 = []\n",
    "\n",
    "for arr in [arr_1, arr_2, arr_3, arr_4, arr_5, arr_6]:\n",
    "    print(f'\\nfor array = {arr}:')\n",
    "    calc_frequency(arr)"
   ]
  },
  {
   "cell_type": "markdown",
   "id": "f85dfe3a-b875-4ad2-9042-ec7a0cb403df",
   "metadata": {
    "id": "f85dfe3a-b875-4ad2-9042-ec7a0cb403df"
   },
   "source": [
    "#"
   ]
  },
  {
   "cell_type": "markdown",
   "id": "e9b65a8b",
   "metadata": {
    "id": "e9b65a8b"
   },
   "source": [
    "***Task 8. Search for the singular***\n",
    "\n",
    "`Task from interviews` — *tasks with this mark are often found in the practice of interviews for IT specialists*.\n",
    "\n",
    "A list of `numbers_list` is given. The elements of this list are non—negative integers from 0 to 100. The list is designed so that every number in it (except one) occurs twice.\n",
    "\n",
    "#### **What needs to be done**\n",
    "Create and program an algorithm that finds the only number in the `numbers_list` list that occurs in it once.\n",
    "\n",
    "Solve the problem in at least two ways. Make sure that the algorithm works correctly for different inputs: create several lists and test the algorithm on them."
   ]
  },
  {
   "cell_type": "code",
   "execution_count": 21,
   "id": "2f65b50a-6591-49c4-b7f5-c8a83f6aa958",
   "metadata": {
    "id": "2f65b50a-6591-49c4-b7f5-c8a83f6aa958"
   },
   "outputs": [],
   "source": [
    "numbers_list = [0, 1, 3, 4, 7, 98, 3, 1, 98, 7, 16, 16, 4, 0, 42]"
   ]
  },
  {
   "cell_type": "code",
   "execution_count": 22,
   "id": "0300806b-90e3-42ba-829f-300781c6dd5d",
   "metadata": {
    "id": "0300806b-90e3-42ba-829f-300781c6dd5d"
   },
   "outputs": [],
   "source": [
    "def find_unique_element_1(array: list[int]) -> int:\n",
    "    n = len(array)\n",
    "    for i in range(n):\n",
    "        j = 0\n",
    "        while j < n and (array[i] != array[j] or i == j):\n",
    "            j += 1\n",
    "        if j == n:\n",
    "            return array[i]\n",
    "    return array[-1]"
   ]
  },
  {
   "cell_type": "code",
   "execution_count": 23,
   "id": "d842b7e4",
   "metadata": {},
   "outputs": [
    {
     "data": {
      "text/plain": [
       "42"
      ]
     },
     "execution_count": 23,
     "metadata": {},
     "output_type": "execute_result"
    }
   ],
   "source": [
    "find_unique_element_1(numbers_list)"
   ]
  },
  {
   "cell_type": "code",
   "execution_count": 24,
   "id": "d42adbd0",
   "metadata": {},
   "outputs": [],
   "source": [
    "def find_unique_element_2(array: list[int]) -> int:\n",
    "    freq = [0 for _ in range(101)]\n",
    "    for array_i in array:\n",
    "        freq[array_i] += 1\n",
    "    for i in range(101):\n",
    "        if freq[i] == 1:\n",
    "            return i"
   ]
  },
  {
   "cell_type": "markdown",
   "id": "38d8ce90-bb56-4706-8db2-ba69efd05695",
   "metadata": {
    "id": "38d8ce90-bb56-4706-8db2-ba69efd05695"
   },
   "source": [
    "#"
   ]
  },
  {
   "cell_type": "code",
   "execution_count": 25,
   "id": "85345211",
   "metadata": {},
   "outputs": [
    {
     "data": {
      "text/plain": [
       "42"
      ]
     },
     "execution_count": 25,
     "metadata": {},
     "output_type": "execute_result"
    }
   ],
   "source": [
    "find_unique_element_2(numbers_list)"
   ]
  },
  {
   "cell_type": "code",
   "execution_count": 26,
   "id": "d69341d2",
   "metadata": {},
   "outputs": [],
   "source": [
    "def find_unique_element_3(array: list[int]) -> int:\n",
    "    res = array[0]\n",
    "    for i in range(1, len(array)):\n",
    "        res = res ^ array[i]\n",
    "    return res"
   ]
  },
  {
   "cell_type": "code",
   "execution_count": 27,
   "id": "9eef85f2",
   "metadata": {},
   "outputs": [
    {
     "data": {
      "text/plain": [
       "42"
      ]
     },
     "execution_count": 27,
     "metadata": {},
     "output_type": "execute_result"
    }
   ],
   "source": [
    "find_unique_element_3(numbers_list)"
   ]
  },
  {
   "cell_type": "markdown",
   "id": "3872544b",
   "metadata": {
    "id": "3872544b"
   },
   "source": [
    "***Task 9. Sorting and merging files***\n",
    "\n",
    "`Task from interviews` — tasks with this mark are often found in the practice of interviews for IT specialists.\n",
    "\n",
    "In its original form, this task looks like this: imagine that you are working on a computer with very limited memory. There are two large files on the hard disk of this computer: `file1` and `file2`, each file contains numbers. Only one file can be read into the computer's memory, but not both at the same time. **It is necessary to write a third file to the hard disk, which will contain the numbers from both files sorted in ascending order.**\n",
    "\n",
    "This is an old task from the days when computers were big and expensive and you constantly had to save resources. In the era of big data, this task makes sense again.\n",
    "\n",
    "Since only one file fits in memory, you download the first one, sort it (no matter how, even with a bubble) and save it sorted to disk. Then you free up the memory, load the second file into it and do the same: sort it and write it to disk. Now there are two sorted files on the disk. Let them look like this:\n",
    "\n",
    "|file1 |file2 |\n",
    "|------|------|\n",
    "|  1   | 2    |\n",
    "|  5   | 3    |\n",
    "|  6   | 5    |\n",
    "|  18  | 7    |\n",
    "|  42  | 8    |\n",
    "|  74  | 18   |\n",
    "|  80  | 19   |\n",
    "|  87  | 20   |\n",
    "|  91  | 43   |\n",
    "|  99  | 50   |\n",
    "|  100 | 81   |\n",
    "|      | 93   |\n",
    "|      | 101  |\n",
    "|      | 102  |\n",
    "|      | 103  |\n",
    "\n",
    "Individually, each file is sorted, but you need to combine these two files (or, as they say, merge) into one sorted file. You will not be able to count them into memory, connect and sort them, because they will not fit in memory at the same time. Therefore, an algorithm is needed that will allow you to write a combined sorted file without reading the two original files into memory. Formally, this algorithm is called [merge sorting](https://ru.wikipedia.org/wiki/%D0%A1%D0%BE%D1%80%D1%82%D0%B8%D1%80%D0%BE%D0%B2%D0%BA%D0%B0_%D1%81%D0%BB%D0%B8%D1%8F%D0%BD%D0%B8%D0%B5%D0%BC#:~:text=%D0%A1%D0%BE%D1%80%D1%82%D0%B8%D1%80%D0%BE%D0%B2%D0%BA%D0%B0%20%D1%81%D0%BB%D0%B8%D1%8F%D0%BD%D0%B8%D0%B5%D0%BC%20(%D0%B0%D0%BD%D0%B3%D0%BB.,%D0%BF%D1%80%D0%B8%D0%BD%D1%86%D0%B8%D0%BF%D0%B0%20%C2%AB%D1%80%D0%B0%D0%B7%D0%B4%D0%B5%D0%BB%D1%8F%D0%B9%20%D0%B8%20%D0%B2%D0%BB%D0%B0%D1%81%D1%82%D0%B2%D1%83%D0%B9%C2%BB.).\n",
    "\n",
    "You will only need a part of this algorithm, because the source files have already been sorted. All that remains is to merge them into a single file, which will also be sorted. Let's analyze the algorithm of `merging' in steps:\n",
    "\n",
    "1. Take the `first` elements of each file and compare them with each other.\n",
    "1. `1` is less than `2`, so we save `1` to the `result` file (it will be [1]).\n",
    "1. Take the `second` element from `file1` and compare it with the `first element` from `file2`.\n",
    "1. '5` is greater than `2`, so we save `2` to the 'result` file (it will be [1, 2]).\n",
    "1. Take the `second` element from `file2` and compare the `second` element from `file1` with it.\n",
    "1. '5` is greater than `3`, so we save `3` to the 'result` file (it will be [1, 2, 3]).\n",
    "1. We take the `third` element from `file2` and compare the `second` element from `file1` with it.\n",
    "1. `5` is equal to `5`, so we save `5` to the 'result` file (it will be [1, 2, 3, 5]).\n",
    "1. You can take the `third` element of `file1` and compare it with the `third` element of `file2` or take the `fourth` the element `file2` and compare the `second` element from `file1` with it. Let's have the last option.\n",
    "1. '5` is less than `7`, so we save `5` to the 'result` file (it will be [1, 2, 3, 5, 5]).\n",
    "1. We take the `third` element from `file1` and compare it with the `fourth` element from `file2`.\n",
    "1. `6` is less than `7`, so we save `6` to the 'result` file (it will be [1, 2, 3, 5, 5, 6]).\n",
    "1. We take the `fourth` element from `file1` and compare it with the `fourth` element from `file2`.\n",
    "1. We continue in this spirit until we reach the end of one of the files.\n",
    "\n",
    "When we reach the end of one of the files, the `result` file will contain a sorted `mixture` of the elements `file1` and `file2`, and in one of the files (which you have not reached the end of) there may be more elements that are guaranteed to be no less than the elements in `result`. All you have to do is `glue` these elements to the end of `result`, and then the sorted union of `file1` and `file2` will appear in `result`. The problem is solved.\n",
    "\n",
    "**Formal statement of the problem**\n",
    "\n",
    "Two lists `file1` and `file2' are given. Program the algorithm described above so that the 'result` list contains a sorted union of `file1` and `file2'.\n",
    "\n",
    "Make sure that the algorithm works correctly for different input data: create several lists, check the algorithm on them."
   ]
  },
  {
   "cell_type": "code",
   "execution_count": 28,
   "id": "d369e767",
   "metadata": {
    "id": "d369e767"
   },
   "outputs": [],
   "source": [
    "file1 = [1, 5, 6, 18, 42, 74, 80, 87, 91, 99, 100]\n",
    "file2 = [2, 3, 5, 7, 8, 18, 19, 20, 43, 50, 81, 93, 101]"
   ]
  },
  {
   "cell_type": "code",
   "execution_count": 29,
   "id": "86e2fa09-3eb6-4ac7-a7a9-48eddefe02a8",
   "metadata": {
    "id": "86e2fa09-3eb6-4ac7-a7a9-48eddefe02a8"
   },
   "outputs": [],
   "source": [
    "def merge_sort(array_1: list[int], array_2: list[int]) -> list[int]:\n",
    "    n, m = len(array_1), len(array_2)\n",
    "    if n == 0:\n",
    "        return array_2\n",
    "    if m == 0:\n",
    "        return array_1\n",
    "\n",
    "    i, j = 0, 0\n",
    "    result = [-1 for _ in range(n + m)]\n",
    "    while i < n and j < m:\n",
    "        if array_1[i] < array_2[j]:\n",
    "            result[i + j] = array_1[i]\n",
    "            i += 1\n",
    "        else:\n",
    "            result[i + j] = array_2[j]\n",
    "            j += 1\n",
    "    while i < n:\n",
    "        result[i + j] = array_1[i]\n",
    "        i += 1\n",
    "    while j < m:\n",
    "        result[i + j] = array_2[j]\n",
    "        j += 1\n",
    "    return result"
   ]
  },
  {
   "cell_type": "code",
   "execution_count": 30,
   "id": "17fc65b9",
   "metadata": {},
   "outputs": [
    {
     "name": "stdout",
     "output_type": "stream",
     "text": [
      "for array_1 = [1, 5, 6, 18, 42, 74, 80, 87, 91, 99, 100] and array_2 = [2, 3, 5, 7, 8, 18, 19, 20, 43, 50, 81, 93, 101]:\n",
      "[1, 2, 3, 5, 5, 6, 7, 8, 18, 18, 19, 20, 42, 43, 50, 74, 80, 81, 87, 91, 93, 99, 100, 101]\n"
     ]
    }
   ],
   "source": [
    "print(f'for array_1 = {file1} and array_2 = {file2}:')\n",
    "print(merge_sort(file1, file2))"
   ]
  },
  {
   "cell_type": "code",
   "execution_count": 31,
   "id": "9dca749b",
   "metadata": {},
   "outputs": [
    {
     "name": "stdout",
     "output_type": "stream",
     "text": [
      "for array_1 = [1, 2, 3, 4, 5] and array_2 = [6, 7, 8, 9]:\n",
      "[1, 2, 3, 4, 5, 6, 7, 8, 9] \n",
      "\n",
      "for array_1 = [1, 3, 5, 7, 9] and array_2 = [0, 2, 4, 6, 8]:\n",
      "[0, 1, 2, 3, 4, 5, 6, 7, 8, 9] \n",
      "\n",
      "for array_1 = [100] and array_2 = [10, 50, 75]:\n",
      "[10, 50, 75, 100] \n",
      "\n",
      "for array_1 = [100, 250, 500, 800] and array_2 = [50]:\n",
      "[50, 100, 250, 500, 800] \n",
      "\n",
      "for array_1 = [12] and array_2 = [24]:\n",
      "[12, 24] \n",
      "\n",
      "for array_1 = [] and array_2 = [7, 8, 1999]:\n",
      "[7, 8, 1999] \n",
      "\n",
      "for array_1 = [11, 21, 2000] and array_2 = []:\n",
      "[11, 21, 2000] \n",
      "\n"
     ]
    }
   ],
   "source": [
    "a1, b1 = [1, 2, 3, 4, 5], [6, 7, 8, 9]\n",
    "a2, b2 = [1, 3, 5, 7, 9], [0, 2, 4, 6, 8]\n",
    "a3, b3 = [100], [10, 50, 75]\n",
    "a4, b4 = [100, 250, 500, 800], [50]\n",
    "a5, b5 = [12], [24]\n",
    "a6, b6 = [], [7, 8, 1999]\n",
    "a7, b7 = [11, 21, 2000], []\n",
    "\n",
    "for a, b in zip([a1, a2, a3, a4, a5, a6, a7], [b1, b2, b3, b4, b5, b6, b7]):\n",
    "    print(f'for array_1 = {a} and array_2 = {b}:')\n",
    "    print(merge_sort(a, b), '\\n')"
   ]
  },
  {
   "cell_type": "markdown",
   "id": "6b97618f-d2a8-46b0-a593-69d81bde2959",
   "metadata": {
    "id": "6b97618f-d2a8-46b0-a593-69d81bde2959"
   },
   "source": [
    "#"
   ]
  },
  {
   "cell_type": "markdown",
   "id": "9e8092e0",
   "metadata": {
    "id": "9e8092e0"
   },
   "source": [
    "***Task 10. Moving Average***\n",
    "\n",
    "*Moving average* is a special function that at each point is equal to the arithmetic mean of the original function values for the previous period. Moving averages are used to smooth out short-term fluctuations in data and highlight the main trends in them.\n",
    "\n",
    "Let's give a list of `numbers_list = [2, 12, 7, 8, 0]`. Its elements can be considered as the values of some function. Let's take the first three elements of this list and calculate their arithmetic mean:\n",
    "\n",
    "[**2**, **12**, **7**, 8, 0] —> (2 + 12 + 7) / 3 = 7\n",
    "\n",
    "Now we take the second, third and fourth elements of the list and calculate their average:\n",
    "\n",
    "[2, **12**, **7**, **8**, 0] —> (12 + 7 + 8) / 3 = 9\n",
    "\n",
    "Finally, we take the third, fourth and fifth elements of the list and calculate their average:\n",
    "\n",
    "[2, 12, **7**, **8**, **0**] —> (7 + 8 + 0) / 3 = 5\n",
    "\n",
    "In this case, the moving average of a list with a window of three elements will be a list `[7, 9, 5]`.\n",
    "\n",
    "Note that the window is three elements in size, as if it `slides` through the list, shifting to the right by one element. At each step of this window, the arithmetic mean of the elements included in it is calculated, then added to a new list, which will be the result of a moving average with a given window for the original list.\n",
    "\n",
    "\n",
    "#### **What needs to be done**\n",
    "Implement an algorithm that calculates a moving average for a list with a given window size. Save the moving average items to the `result` list.\n",
    "\n",
    "Make sure that the algorithm works correctly for different input data: create several lists, check the algorithm on them."
   ]
  },
  {
   "cell_type": "code",
   "execution_count": 32,
   "id": "gyzf1t8xvfTi",
   "metadata": {
    "id": "gyzf1t8xvfTi"
   },
   "outputs": [],
   "source": [
    "numbers_list = [2, 12, 7, 8, 0]\n",
    "\n",
    "window_size = 3"
   ]
  },
  {
   "cell_type": "code",
   "execution_count": 33,
   "id": "6acce51b-402b-459a-a1ee-8749830f1e2c",
   "metadata": {
    "id": "6acce51b-402b-459a-a1ee-8749830f1e2c"
   },
   "outputs": [],
   "source": [
    "def moving_average(array: list[float], window_size: int = 0) -> list[float]:\n",
    "    n = len(array)\n",
    "\n",
    "    if n < 2:\n",
    "        return array\n",
    "\n",
    "    # В случае, если размер окна не задан, мы устанавливаем его равным 3, если\n",
    "    # размер массива позволяет, иначе - просто посчитаем среднее всех элементов\n",
    "    if window_size == 0:\n",
    "        window_size = min(3, n)\n",
    "\n",
    "    cur_sum = 0\n",
    "    result = [0 for _ in range(n - window_size + 1)]\n",
    "    for i in range(n):\n",
    "        if i < window_size - 1:\n",
    "            cur_sum += array[i]\n",
    "        else:\n",
    "            cur_sum += array[i]\n",
    "            result[i - window_size + 1] = cur_sum / window_size\n",
    "            cur_sum -= array[i + 1 - window_size]\n",
    "    return result"
   ]
  },
  {
   "cell_type": "code",
   "execution_count": 34,
   "id": "8d3356fd",
   "metadata": {},
   "outputs": [
    {
     "data": {
      "text/plain": [
       "[7.0, 9.0, 5.0]"
      ]
     },
     "execution_count": 34,
     "metadata": {},
     "output_type": "execute_result"
    }
   ],
   "source": [
    "moving_average(numbers_list, window_size)"
   ]
  },
  {
   "cell_type": "code",
   "execution_count": 35,
   "id": "16173251",
   "metadata": {},
   "outputs": [
    {
     "data": {
      "text/plain": [
       "True"
      ]
     },
     "execution_count": 35,
     "metadata": {},
     "output_type": "execute_result"
    }
   ],
   "source": [
    "moving_average([5, 3, 9, 9, 2], 2) == [4, 6, 9, 5.5]"
   ]
  }
 ],
 "metadata": {
  "colab": {
   "provenance": []
  },
  "kernelspec": {
   "display_name": "Python 3",
   "language": "python",
   "name": "python3"
  },
  "language_info": {
   "codemirror_mode": {
    "name": "ipython",
    "version": 3
   },
   "file_extension": ".py",
   "mimetype": "text/x-python",
   "name": "python",
   "nbconvert_exporter": "python",
   "pygments_lexer": "ipython3",
   "version": "3.10.2"
  }
 },
 "nbformat": 4,
 "nbformat_minor": 5
}
